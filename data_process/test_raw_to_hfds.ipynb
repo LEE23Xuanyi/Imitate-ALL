{
 "cells": [
  {
   "cell_type": "code",
   "execution_count": null,
   "metadata": {},
   "outputs": [],
   "source": [
    "%load_ext autoreload\n",
    "%autoreload 2"
   ]
  },
  {
   "cell_type": "code",
   "execution_count": null,
   "metadata": {},
   "outputs": [],
   "source": [
    "import convert_all as crd"
   ]
  },
  {
   "cell_type": "code",
   "execution_count": null,
   "metadata": {},
   "outputs": [],
   "source": [
    "# get all low_dim data\n",
    "raw_dir = \"../demonstrations/raw/stack_cups\"\n",
    "data = crd.raw_to_dict(\n",
    "    raw_dir,\n",
    "    [\"records.json\"],\n",
    "    video_file_names=None,\n",
    "    flatten_mode=\"hdf5\",\n",
    "    concatenater={\n",
    "        \"/observations/qpos\": (\n",
    "            \"/observation/arm/left/joint_position\",\n",
    "            \"/observation/eef/left/joint_position\",\n",
    "            \"/observation/arm/right/joint_position\",\n",
    "            \"/observation/eef/right/joint_position\",\n",
    "            \"/observation/head/joint_position\",\n",
    "            \"/observation/spine/joint_position\"\n",
    "        ),\n",
    "        \"/action\": (\n",
    "            \"/action/arm/left/joint_position\",\n",
    "            \"/action/eef/left/joint_position\",\n",
    "            \"/action/arm/right/joint_position\",\n",
    "            \"/action/eef/right/joint_position\",\n",
    "            \"/action/head/joint_velocity\",\n",
    "            \"/action/spine/joint_velocity\"\n",
    "        ),\n",
    "    },\n",
    "    key_filter=[\n",
    "        \"/observation/arm/left/joint_velocity\",\n",
    "        \"/observation/arm/right/joint_velocity\",\n",
    "        \"/observation/arm/left/joint_torque\",\n",
    "        \"/observation/arm/right/joint_torque\",\n",
    "    ],\n",
    ")"
   ]
  },
  {
   "cell_type": "code",
   "execution_count": null,
   "metadata": {},
   "outputs": [],
   "source": []
  }
 ],
 "metadata": {
  "kernelspec": {
   "display_name": "aloha",
   "language": "python",
   "name": "python3"
  },
  "language_info": {
   "name": "python",
   "version": "3.8.10"
  }
 },
 "nbformat": 4,
 "nbformat_minor": 2
}
